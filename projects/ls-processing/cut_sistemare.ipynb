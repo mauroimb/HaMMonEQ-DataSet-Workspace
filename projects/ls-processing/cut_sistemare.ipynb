{
 "cells": [
  {
   "cell_type": "code",
   "execution_count": 13,
   "metadata": {},
   "outputs": [],
   "source": [
    "from PIL import Image, ImageDraw\n",
    "import json\n",
    "import numpy as np"
   ]
  },
  {
   "cell_type": "code",
   "execution_count": 14,
   "metadata": {},
   "outputs": [],
   "source": [
    "from PIL import Image\n",
    "jsonpath = '/home/mauro/workspace/HammonEQ/workspace/project-19-at-2025-01-10-21-12-42f1ff8d.json'\n",
    "jpegpath = '/home/mauro/workspace/HammonEQ/workspace/DJI_20241014142429_0197_D.JPG'\n"
   ]
  },
  {
   "cell_type": "code",
   "execution_count": 15,
   "metadata": {},
   "outputs": [],
   "source": [
    "\n",
    "# Carica il JSON\n",
    "with open(path, \"r\") as f:\n",
    "    data = json.load(f)\n",
    "\n",
    "# Carica l'immagine\n",
    "image = Image.open(jpegpath)"
   ]
  },
  {
   "cell_type": "code",
   "execution_count": 16,
   "metadata": {},
   "outputs": [],
   "source": [
    "\n",
    "# Crea una maschera vuota delle stesse dimensioni dell'immagine\n",
    "mask = Image.new(\"L\", image.size, 0)\n",
    "\n",
    "# Disegna le maschere basate sui poligoni\n",
    "for annotation in data[0]['annotations'][0]['result']:\n",
    "    if annotation['type'] == 'polygonlabels':\n",
    "        points = [\n",
    "            (x / 100 * image.width, y / 100 * image.height)\n",
    "            for x, y in annotation['value']['points']\n",
    "        ]\n",
    "        draw = ImageDraw.Draw(mask)\n",
    "        draw.polygon(points, fill=255)\n"
   ]
  },
  {
   "cell_type": "code",
   "execution_count": 17,
   "metadata": {},
   "outputs": [],
   "source": [
    "\n",
    "# Itera sulle bounding box nel JSON\n",
    "for annotation in data[0]['annotations'][0]['result']:\n",
    "    if annotation['type'] == 'rectanglelabels':\n",
    "        # Ottieni le coordinate della bounding box\n",
    "        x = annotation['value']['x'] / 100 * image.width\n",
    "        y = annotation['value']['y'] / 100 * image.height\n",
    "        width = annotation['value']['width'] / 100 * image.width\n",
    "        height = annotation['value']['height'] / 100 * image.height\n",
    "\n",
    "        # Calcola i bordi della bounding box\n",
    "        left = int(x)\n",
    "        top = int(y)\n",
    "        right = int(x + width)\n",
    "        bottom = int(y + height)\n",
    "\n",
    "        # Ritaglia l'immagine\n",
    "        cropped = image.crop((left, top, right, bottom))\n",
    "\n",
    "        # Ritaglia la maschera\n",
    "        cropped_mask = mask.crop((left, top, right, bottom))\n",
    "\n",
    "        # Salva la bounding box e la maschera ritagliata\n",
    "        label = annotation['value']['rectanglelabels'][0]\n",
    "        cropped.save(f\"cropped_{label}_{left}_{top}.jpg\")\n",
    "        cropped_mask.save(f\"mask_{label}_{left}_{top}.png\")\n"
   ]
  },
  {
   "cell_type": "code",
   "execution_count": 7,
   "metadata": {},
   "outputs": [],
   "source": [
    "\n",
    "# Itera sulle bounding box nel JSON\n",
    "for annotation in data[0]['annotations'][0]['result']:\n",
    "    if annotation['type'] == 'rectanglelabels':\n",
    "        # Ottieni le coordinate della bounding box\n",
    "        x = annotation['value']['x'] / 100 * image.width\n",
    "        y = annotation['value']['y'] / 100 * image.height\n",
    "        width = annotation['value']['width'] / 100 * image.width\n",
    "        height = annotation['value']['height'] / 100 * image.height\n",
    "\n",
    "        # Calcola i bordi della bounding box\n",
    "        left = int(x)\n",
    "        top = int(y)\n",
    "        right = int(x + width)\n",
    "        bottom = int(y + height)\n",
    "\n",
    "        # Ritaglia l'immagine\n",
    "        cropped = image.crop((left, top, right, bottom))\n",
    "\n",
    "        # Salva la bounding box ritagliata\n",
    "        label = annotation['value']['rectanglelabels'][0]\n",
    "        cropped.save(f\"cropped_{label}_{left}_{top}.jpg\")\n"
   ]
  },
  {
   "cell_type": "code",
   "execution_count": null,
   "metadata": {},
   "outputs": [],
   "source": []
  }
 ],
 "metadata": {
  "kernelspec": {
   "display_name": "Python 3",
   "language": "python",
   "name": "python3"
  },
  "language_info": {
   "codemirror_mode": {
    "name": "ipython",
    "version": 3
   },
   "file_extension": ".py",
   "mimetype": "text/x-python",
   "name": "python",
   "nbconvert_exporter": "python",
   "pygments_lexer": "ipython3",
   "version": "3.10.12"
  }
 },
 "nbformat": 4,
 "nbformat_minor": 2
}
