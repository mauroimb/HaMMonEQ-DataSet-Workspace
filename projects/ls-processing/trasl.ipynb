{
 "cells": [
  {
   "cell_type": "code",
   "execution_count": 1,
   "metadata": {},
   "outputs": [],
   "source": [
    "import cv2\n",
    "import numpy as np\n",
    "from pathlib import Path"
   ]
  },
  {
   "cell_type": "code",
   "execution_count": 2,
   "metadata": {},
   "outputs": [],
   "source": [
    "path2 = Path('../../data/exp_openCV/DJI_20241014141733_0002_D.JPG').resolve()\n",
    "path3 = Path('../../data/exp_openCV/DJI_20241014141735_0003_D.JPG').resolve()"
   ]
  },
  {
   "cell_type": "code",
   "execution_count": 3,
   "metadata": {},
   "outputs": [],
   "source": [
    "# Caricare le immagini\n",
    "img_ref = cv2.imread(str(path2), cv2.IMREAD_GRAYSCALE)\n",
    "img_to_align = cv2.imread(str(path3), cv2.IMREAD_GRAYSCALE)\n",
    "\n",
    "\n",
    "# Creare il detector ORB\n",
    "orb = cv2.ORB_create(5000)\n",
    "\n",
    "\n",
    "# Trovare i punti chiave e descrittori\n",
    "kp1, des1 = orb.detectAndCompute(img_ref, None)\n",
    "kp2, des2 = orb.detectAndCompute(img_to_align, None)\n",
    "\n",
    "\n",
    "# Creare il matcher\n",
    "bf = cv2.BFMatcher(cv2.NORM_HAMMING, crossCheck=True)\n",
    "\n",
    "\n",
    "# Trovare le corrispondenze\n",
    "matches = bf.match(des1, des2)\n",
    "\n",
    "\n",
    "# Ordinare per distanza\n",
    "matches = sorted(matches, key=lambda x: x.distance)\n",
    "\n",
    "\n",
    "# Prendere i migliori 50 punti\n",
    "matches = matches[:50]\n"
   ]
  },
  {
   "cell_type": "code",
   "execution_count": 4,
   "metadata": {},
   "outputs": [],
   "source": [
    "\n",
    "# Estrarre i punti di corrispondenza\n",
    "src_pts = np.float32([kp2[m.trainIdx].pt for m in matches]).reshape(-1, 1, 2)\n",
    "dst_pts = np.float32([kp1[m.queryIdx].pt for m in matches]).reshape(-1, 1, 2)\n"
   ]
  },
  {
   "cell_type": "code",
   "execution_count": 5,
   "metadata": {},
   "outputs": [],
   "source": [
    "\n",
    "# Calcolare la trasformazione omografica\n",
    "H, mask = cv2.findHomography(src_pts, dst_pts, cv2.RANSAC, 5.0)\n"
   ]
  },
  {
   "cell_type": "code",
   "execution_count": 6,
   "metadata": {},
   "outputs": [],
   "source": [
    "\n",
    "# Applicare la trasformazione all'immagine da allineare\n",
    "h, w = img_ref.shape\n",
    "aligned_img = cv2.warpPerspective(cv2.imread(str(path3)), H, (w, h))\n"
   ]
  },
  {
   "cell_type": "code",
   "execution_count": 7,
   "metadata": {},
   "outputs": [
    {
     "data": {
      "text/plain": [
       "True"
      ]
     },
     "execution_count": 7,
     "metadata": {},
     "output_type": "execute_result"
    }
   ],
   "source": [
    "\n",
    "# Salvare o mostrare l'immagine allineata\n",
    "cv2.imwrite(\"immagine_allineata.jpg\", aligned_img)\n",
    "# cv2.imshow(\"Allineata\", aligned_img)\n",
    "# cv2.waitKey(0)\n",
    "# cv2.destroyAllWindows()\n"
   ]
  },
  {
   "cell_type": "code",
   "execution_count": 8,
   "metadata": {},
   "outputs": [
    {
     "name": "stderr",
     "output_type": "stream",
     "text": [
      "qt.qpa.plugin: Could not find the Qt platform plugin \"wayland\" in \"/home/mauro/.local/lib/python3.10/site-packages/cv2/qt/plugins\"\n"
     ]
    }
   ],
   "source": [
    "\n",
    "\n",
    "# Carica l'immagine originale e quella allineata\n",
    "original_img = cv2.imread(str(path2))  # Sostituisci con il nome corretto\n",
    "aligned_img = cv2.imread(\"immagine_allineata.jpg\")\n",
    "\n",
    "# Assicurati che entrambe le immagini abbiano le stesse dimensioni\n",
    "if original_img.shape != aligned_img.shape:\n",
    "    aligned_img = cv2.resize(aligned_img, (original_img.shape[1], original_img.shape[0]))\n",
    "\n",
    "# Sovrapposizione con trasparenza (alpha blend)\n",
    "alpha = 0.6  # Livello di trasparenza dell'immagine allineata\n",
    "overlay = cv2.addWeighted(original_img, 1 - alpha, aligned_img, alpha, 0)\n",
    "\n",
    "# Salva l'immagine sovrapposta\n",
    "cv2.imwrite(\"sovrapposta.jpg\", overlay)\n",
    "\n",
    "# Mostra l'immagine sovrapposta\n",
    "cv2.imshow(\"Immagine Sovrapposta\", overlay)\n",
    "cv2.waitKey(0)\n",
    "cv2.destroyAllWindows()\n"
   ]
  },
  {
   "cell_type": "code",
   "execution_count": null,
   "metadata": {},
   "outputs": [],
   "source": []
  }
 ],
 "metadata": {
  "kernelspec": {
   "display_name": "Python 3",
   "language": "python",
   "name": "python3"
  },
  "language_info": {
   "codemirror_mode": {
    "name": "ipython",
    "version": 3
   },
   "file_extension": ".py",
   "mimetype": "text/x-python",
   "name": "python",
   "nbconvert_exporter": "python",
   "pygments_lexer": "ipython3",
   "version": "3.10.12"
  }
 },
 "nbformat": 4,
 "nbformat_minor": 2
}
