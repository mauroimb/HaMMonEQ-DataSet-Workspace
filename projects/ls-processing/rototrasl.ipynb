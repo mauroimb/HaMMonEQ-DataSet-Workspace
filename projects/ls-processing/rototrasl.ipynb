{
 "cells": [
  {
   "cell_type": "code",
   "execution_count": 1,
   "metadata": {},
   "outputs": [],
   "source": [
    "from project import Project\n",
    "from pathlib import Path"
   ]
  },
  {
   "cell_type": "code",
   "execution_count": null,
   "metadata": {},
   "outputs": [],
   "source": [
    "project_path = Path('../../data/datasets/original/Palazzo_Maresa_clean')\n"
   ]
  },
  {
   "cell_type": "code",
   "execution_count": 3,
   "metadata": {},
   "outputs": [
    {
     "name": "stdout",
     "output_type": "stream",
     "text": [
      "randomly assigned colors and ids to classes. Manually edit self.ids_and_colors for your convenience\n"
     ]
    }
   ],
   "source": [
    "p = Project(project_path=project_path)#, json_file='project-4-at-2025-02-11-23-56-244834c1.json')"
   ]
  },
  {
   "cell_type": "code",
   "execution_count": 4,
   "metadata": {},
   "outputs": [],
   "source": [
    "p.analyze_annotations()"
   ]
  },
  {
   "cell_type": "markdown",
   "metadata": {},
   "source": []
  },
  {
   "cell_type": "code",
   "execution_count": 5,
   "metadata": {},
   "outputs": [
    {
     "data": {
      "text/plain": [
       "{'polygonlabels': {'crack'}, 'rectanglelabels': {'narrow', 'wide'}}"
      ]
     },
     "execution_count": 5,
     "metadata": {},
     "output_type": "execute_result"
    }
   ],
   "source": [
    "p.annotations"
   ]
  },
  {
   "cell_type": "code",
   "execution_count": 6,
   "metadata": {},
   "outputs": [
    {
     "data": {
      "text/plain": [
       "145"
      ]
     },
     "execution_count": 6,
     "metadata": {},
     "output_type": "execute_result"
    }
   ],
   "source": [
    "p.annotation_count"
   ]
  },
  {
   "cell_type": "code",
   "execution_count": 7,
   "metadata": {},
   "outputs": [],
   "source": [
    "# p.ids_and_colors = {\n",
    "#   \"polygonlabels\": {\n",
    "#     \"crack_orizz\": {\n",
    "#       \"id\": 0,\n",
    "#       \"color\": \"#0000FF\"  #  Blu\n",
    "#     },\n",
    "#     \"crack\": {\n",
    "#       \"id\": 1,\n",
    "#       \"color\": \"#FF0000\" # rosso  #\"#FFFF00\"  # Giallo\n",
    "#     }\n",
    "#   },\n",
    "#   \"rectanglelabels\": {\n",
    "#     \"wide\": {\n",
    "#       \"id\": 0,\n",
    "#       \"color\": \"#00FF00\"  # Verde\n",
    "#     }\n",
    "#   }\n",
    "# }\n",
    "\n",
    "p.ids_and_colors = {\n",
    "  \"polygonlabels\": {\n",
    "    \"crack\": {\n",
    "      \"id\": 1,\n",
    "      \"color\": \"#FFFFFF\" # bianco\n",
    "    }\n",
    "  },\n",
    "  \"rectanglelabels\": {\n",
    "    \"wide\": {\n",
    "      \"id\": 0,\n",
    "      \"color\": \"#FFFF00\" # giallo \n",
    "    },\n",
    "    \"narrow\": {\n",
    "      \"id\": 1,\n",
    "      \"color\": \"#00FF00\"  # Verde\n",
    "    }\n",
    "  }\n",
    "}"
   ]
  },
  {
   "cell_type": "code",
   "execution_count": 8,
   "metadata": {},
   "outputs": [
    {
     "name": "stdout",
     "output_type": "stream",
     "text": [
      "✅ Multiclass masks exported successfully!\n"
     ]
    }
   ],
   "source": [
    "p.export_masks(annotation_class=False, color=True, melt=False)"
   ]
  },
  {
   "cell_type": "code",
   "execution_count": 7,
   "metadata": {},
   "outputs": [
    {
     "name": "stdout",
     "output_type": "stream",
     "text": [
      "✅ Rectangle masks exported successfully!\n"
     ]
    }
   ],
   "source": [
    "p.export_rectangle_masks(border_thickness=5)"
   ]
  },
  {
   "cell_type": "code",
   "execution_count": 8,
   "metadata": {},
   "outputs": [
    {
     "name": "stdout",
     "output_type": "stream",
     "text": [
      "✅ Superposition completed successfully!\n"
     ]
    }
   ],
   "source": [
    "p.superposition([\"masks-color\"], orig_dir=\"rectangle-masks\")"
   ]
  },
  {
   "cell_type": "code",
   "execution_count": 8,
   "metadata": {},
   "outputs": [
    {
     "name": "stdout",
     "output_type": "stream",
     "text": [
      "✅ Superposition completed successfully!\n"
     ]
    }
   ],
   "source": [
    "p.superposition([\"masks-color\"])"
   ]
  },
  {
   "cell_type": "code",
   "execution_count": null,
   "metadata": {},
   "outputs": [],
   "source": []
  }
 ],
 "metadata": {
  "kernelspec": {
   "display_name": "Python 3",
   "language": "python",
   "name": "python3"
  },
  "language_info": {
   "codemirror_mode": {
    "name": "ipython",
    "version": 3
   },
   "file_extension": ".py",
   "mimetype": "text/x-python",
   "name": "python",
   "nbconvert_exporter": "python",
   "pygments_lexer": "ipython3",
   "version": "3.undefined.undefined"
  }
 },
 "nbformat": 4,
 "nbformat_minor": 2
}
