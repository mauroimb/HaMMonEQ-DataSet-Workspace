{
 "cells": [
  {
   "cell_type": "code",
   "execution_count": 21,
   "metadata": {},
   "outputs": [],
   "source": [
    "from project import Project"
   ]
  },
  {
   "cell_type": "code",
   "execution_count": 22,
   "metadata": {},
   "outputs": [
    {
     "name": "stdout",
     "output_type": "stream",
     "text": [
      "randomly assigned colors and ids to classes. Manually edit self.ids_and_colors for your convenience\n"
     ]
    }
   ],
   "source": [
    "p = Project(project_path='./4096_Palazzo_Maresa', json_file='project-4-at-2025-02-11-23-56-244834c1.json')"
   ]
  },
  {
   "cell_type": "code",
   "execution_count": 23,
   "metadata": {},
   "outputs": [],
   "source": [
    "p.analyze_annotations()"
   ]
  },
  {
   "cell_type": "markdown",
   "metadata": {},
   "source": []
  },
  {
   "cell_type": "code",
   "execution_count": 24,
   "metadata": {},
   "outputs": [
    {
     "data": {
      "text/plain": [
       "{'polygonlabels': {'crack', 'crack_orizz'}, 'rectanglelabels': {'wide'}}"
      ]
     },
     "execution_count": 24,
     "metadata": {},
     "output_type": "execute_result"
    }
   ],
   "source": [
    "p.annotations"
   ]
  },
  {
   "cell_type": "code",
   "execution_count": 25,
   "metadata": {},
   "outputs": [
    {
     "data": {
      "text/plain": [
       "665"
      ]
     },
     "execution_count": 25,
     "metadata": {},
     "output_type": "execute_result"
    }
   ],
   "source": [
    "p.annotation_count"
   ]
  },
  {
   "cell_type": "code",
   "execution_count": 28,
   "metadata": {},
   "outputs": [],
   "source": [
    "p.ids_and_colors = {\n",
    "  \"polygonlabels\": {\n",
    "    \"crack_orizz\": {\n",
    "      \"id\": 0,\n",
    "      \"color\": \"#0000FF\"  #  Blu\n",
    "    },\n",
    "    \"crack\": {\n",
    "      \"id\": 1,\n",
    "      \"color\": \"#FF0000\" #\"#FFFF00\"  # Giallo\n",
    "    }\n",
    "  },\n",
    "  \"rectanglelabels\": {\n",
    "    \"wide\": {\n",
    "      \"id\": 0,\n",
    "      \"color\": \"#00FF00\"  # Verde\n",
    "    }\n",
    "  }\n",
    "}"
   ]
  },
  {
   "cell_type": "code",
   "execution_count": 29,
   "metadata": {},
   "outputs": [
    {
     "name": "stdout",
     "output_type": "stream",
     "text": [
      "✅ Multiclass masks exported successfully!\n"
     ]
    }
   ],
   "source": [
    "p.export_masks(annotation_class=False, color=True, melt=False)"
   ]
  },
  {
   "cell_type": "code",
   "execution_count": 30,
   "metadata": {},
   "outputs": [
    {
     "name": "stdout",
     "output_type": "stream",
     "text": [
      "✅ Rectangle masks exported successfully!\n"
     ]
    }
   ],
   "source": [
    "p.export_rectangle_masks(border_thickness=5)"
   ]
  },
  {
   "cell_type": "code",
   "execution_count": 31,
   "metadata": {},
   "outputs": [
    {
     "name": "stdout",
     "output_type": "stream",
     "text": [
      "✅ Superposition completed successfully!\n"
     ]
    }
   ],
   "source": [
    "p.superposition([\"masks-color\", \"rectangle_masks\"])"
   ]
  },
  {
   "cell_type": "code",
   "execution_count": null,
   "metadata": {},
   "outputs": [],
   "source": []
  }
 ],
 "metadata": {
  "kernelspec": {
   "display_name": "Python 3",
   "language": "python",
   "name": "python3"
  },
  "language_info": {
   "codemirror_mode": {
    "name": "ipython",
    "version": 3
   },
   "file_extension": ".py",
   "mimetype": "text/x-python",
   "name": "python",
   "nbconvert_exporter": "python",
   "pygments_lexer": "ipython3",
   "version": "3.10.12"
  }
 },
 "nbformat": 4,
 "nbformat_minor": 2
}
